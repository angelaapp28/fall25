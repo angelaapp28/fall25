{
  "cells": [
    {
      "cell_type": "markdown",
      "metadata": {
        "colab_type": "text",
        "id": "t0-VXSCM7avd"
      },
      "source": [
        "# L-9: Inverse Classroom: It’s not working! Help!\n",
        "\n",
        "These exercises will give you some debugging experience on problems typically found when doing machine learning in practice.\n",
        "\n",
        "**Outline**\n",
        "\n",
        "0. General Set-up\n",
        "1. Debugging A Bad Training Set-up\n",
        "2. Image Segmentation with DICE Loss\n",
        "3. Fixing the Data-Processing Pipeline\n",
        "4. Test Performance is Too Good!"
      ]
    },
    {
      "cell_type": "markdown",
      "metadata": {
        "colab_type": "text",
        "id": "3secgg798917"
      },
      "source": [
        "## 0. General Set-up\n",
        "\n",
        "Here we provide general code set-up: package requirements, train-loaders, etc."
      ]
    },
    {
      "cell_type": "markdown",
      "metadata": {
        "colab_type": "text",
        "id": "datYw3FkO45i"
      },
      "source": [
        "**IMPORTANT:** For all notebooks, before starting, make sure to click\n",
        "\n",
        "`File` -> `Save a copy in Drive...`\n",
        "\n",
        "This will start a new personal notebook file that you can save and edit.\n",
        "If you don't do this step and are only executing in \"Playground Mode\", your progress will not be saved!"
      ]
    },
    {
      "cell_type": "code",
      "execution_count": 1,
      "metadata": {
        "colab": {},
        "colab_type": "code",
        "id": "8ocl9Mfl8LH6"
      },
      "outputs": [
        {
          "ename": "ModuleNotFoundError",
          "evalue": "No module named 'torch'",
          "output_type": "error",
          "traceback": [
            "\u001b[31m---------------------------------------------------------------------------\u001b[39m",
            "\u001b[31mModuleNotFoundError\u001b[39m                       Traceback (most recent call last)",
            "\u001b[36mCell\u001b[39m\u001b[36m \u001b[39m\u001b[32mIn[1]\u001b[39m\u001b[32m, line 3\u001b[39m\n\u001b[32m      1\u001b[39m \u001b[38;5;66;03m# Some general imports we may need:\u001b[39;00m\n\u001b[32m      2\u001b[39m \u001b[38;5;28;01mimport\u001b[39;00m\u001b[38;5;250m \u001b[39m\u001b[34;01mnumpy\u001b[39;00m\u001b[38;5;250m \u001b[39m\u001b[38;5;28;01mas\u001b[39;00m\u001b[38;5;250m \u001b[39m\u001b[34;01mnp\u001b[39;00m\n\u001b[32m----> \u001b[39m\u001b[32m3\u001b[39m \u001b[38;5;28;01mimport\u001b[39;00m\u001b[38;5;250m \u001b[39m\u001b[34;01mtorch\u001b[39;00m\n\u001b[32m      4\u001b[39m \u001b[38;5;28;01mimport\u001b[39;00m\u001b[38;5;250m \u001b[39m\u001b[34;01mtorch\u001b[39;00m\u001b[34;01m.\u001b[39;00m\u001b[34;01mnn\u001b[39;00m\u001b[38;5;250m \u001b[39m\u001b[38;5;28;01mas\u001b[39;00m\u001b[38;5;250m \u001b[39m\u001b[34;01mnn\u001b[39;00m\n\u001b[32m      5\u001b[39m \u001b[38;5;28;01mimport\u001b[39;00m\u001b[38;5;250m \u001b[39m\u001b[34;01mtorchvision\u001b[39;00m\n",
            "\u001b[31mModuleNotFoundError\u001b[39m: No module named 'torch'"
          ]
        }
      ],
      "source": [
        "# Some general imports we may need:\n",
        "import numpy as np\n",
        "import torch\n",
        "import torch.nn as nn\n",
        "import torchvision\n",
        "import torchvision.datasets as dataset\n",
        "import torchvision.transforms as transforms\n",
        "import matplotlib.pyplot as plt\n",
        "import time"
      ]
    },
    {
      "cell_type": "markdown",
      "metadata": {
        "colab_type": "text",
        "id": "uG5SflgE9eVz"
      },
      "source": [
        "Make sure GPU is enabled: In Colab, at the top, \n",
        "\n",
        "click `Runtime` -> `Change runtime type` -> `Hardware Accelerator` -> `GPU`"
      ]
    },
    {
      "cell_type": "code",
      "execution_count": 0,
      "metadata": {
        "colab": {},
        "colab_type": "code",
        "id": "rFFtp9BmLxo9"
      },
      "outputs": [],
      "source": [
        "gpu_boole = torch.cuda.is_available()\n",
        "print(gpu_boole) ##If True, then your GPU is enabled and you are able to make use of it"
      ]
    },
    {
      "cell_type": "code",
      "execution_count": 0,
      "metadata": {
        "colab": {},
        "colab_type": "code",
        "id": "IAb83ZuC52lC"
      },
      "outputs": [],
      "source": [
        "# Basic dataloading for MNIST.\n",
        "# Just to make sure it works for the rest of this notebook.\n",
        "training = dataset.MNIST(root ='./data', transform=transforms.ToTensor(), train=True, download=True)\n",
        "testing =  dataset.MNIST(root ='./data', transform = transforms.ToTensor(), train=False, download=True)\n",
        "train_loader = torch.utils.data.DataLoader(dataset=training, batch_size = 128, shuffle=True)\n",
        "test_loader = torch.utils.data.DataLoader(dataset=testing, batch_size = 128, shuffle=False)"
      ]
    },
    {
      "cell_type": "code",
      "execution_count": 0,
      "metadata": {
        "colab": {},
        "colab_type": "code",
        "id": "iNegXCYN52aB"
      },
      "outputs": [],
      "source": [
        "# Plotting data to make sure it is correct:\n",
        "x,y = next(iter(train_loader))\n",
        "plt.imshow(x[0][0].cpu().data.numpy()) #plotting first channel of first image of MNIST\n",
        "plt.show()\n",
        "print('Label', y[0])"
      ]
    },
    {
      "cell_type": "markdown",
      "metadata": {
        "colab_type": "text",
        "id": "h8UeQcnW51sS"
      },
      "source": [
        "If you see an image of one of training samples above, then everything is working correctly for the next section.\n",
        "\n",
        "**Some quick info about this dataset before starting:**\n",
        "* We will be using the MNIST dataset, a handwritten digit dataset consisting of 10 classes, digits 0 through 9. MNIST consists of 60k training samples and 10k test samples. The images are of shape 28 x 28 (only one channel, grayscale).\n",
        "* Typically MNIST is used as a baseline classification task for prototyping research ideas. In contemporary research, it is usually considered too easy for bonafide ideas to be validated on by itself, instead harder baselines are additionally provided. \n",
        "* For our purposes though, this dataset works well for this classroom setting and will provide us with some basic debugging experience."
      ]
    }
  ],
  "metadata": {
    "accelerator": "GPU",
    "colab": {
      "collapsed_sections": [],
      "name": "L-9-0.ipynb",
      "provenance": []
    },
    "kernelspec": {
      "display_name": "Python 3",
      "name": "python3"
    },
    "language_info": {
      "codemirror_mode": {
        "name": "ipython",
        "version": 3
      },
      "file_extension": ".py",
      "mimetype": "text/x-python",
      "name": "python",
      "nbconvert_exporter": "python",
      "pygments_lexer": "ipython3",
      "version": "3.13.7"
    }
  },
  "nbformat": 4,
  "nbformat_minor": 0
}
