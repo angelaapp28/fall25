{
  "cells": [
    {
      "cell_type": "markdown",
      "metadata": {
        "id": "X3G5iOckPDFC"
      },
      "source": [
        "# Deep Learning (Fall 2025) - Homework 4\n",
        "\n",
        "---\n",
        "\n",
        "\n",
        "\n",
        "*Developed by Hongtau Wu & Suzanna Sia*\n",
        "\n",
        "This notebook contains all starter code for Homework 4. Please read the written assignment carefully to ensure you include all necessary outputs in your final report. Your final submission (a single zip file) should include this notebook (.ipynb file) and a PDF of this notebook with all cell outputs."
      ]
    },
    {
      "cell_type": "markdown",
      "metadata": {
        "id": "k-QLXT-YPDFE"
      },
      "source": [
        "## Problem 1a)"
      ]
    },
    {
      "cell_type": "markdown",
      "metadata": {
        "id": "vgqW4Ud3PDFE"
      },
      "source": [
        "### Imports"
      ]
    },
    {
      "cell_type": "code",
      "execution_count": 1,
      "metadata": {
        "id": "ZwpCO80kPDFF"
      },
      "outputs": [],
      "source": [
        "## External Libararies\n",
        "import numpy as np\n",
        "import matplotlib\n",
        "import matplotlib.pyplot as plt\n",
        "from matplotlib.patches import Polygon\n",
        "from matplotlib.collections import PatchCollection"
      ]
    },
    {
      "cell_type": "markdown",
      "metadata": {
        "id": "GdNgZM70PDFF"
      },
      "source": [
        "### Data Loading"
      ]
    },
    {
      "cell_type": "code",
      "execution_count": 2,
      "metadata": {
        "id": "c92eg0MRracO"
      },
      "outputs": [
        {
          "name": "stdout",
          "output_type": "stream",
          "text": [
            "Y: (60000,)\n",
            "X: (60000, 2)\n"
          ]
        }
      ],
      "source": [
        "## Spectify Path to Provided Data Here\n",
        "DATA_PATH = '/home/blanca/Documents/DeepLearning/Fall25/DataGenCode_and_Data-20250924T183445Z-1-001/DataGenCode_and_Data/fall25_hw4_prob1_data.npy'\n",
        "\n",
        "## Load Data and Check Dimensionality\n",
        "data = np.load(DATA_PATH)\n",
        "Y = data[:,2]\n",
        "X = data[:,0:2]\n",
        "print(\"Y:\", Y.shape)\n",
        "print(\"X:\", X.shape)\n",
        "\n",
        "## Polygon Boundaries\n",
        "p = [[[500, 1000], [300, 800], [400, 600], [600, 600], [700, 800]],\n",
        "     [[500, 600], [100, 400], [300, 200], [700, 200], [900, 400]]]\n",
        "p = np.asarray(p)\n",
        "p0 = p[0]\n",
        "p1 = p[1]"
      ]
    },
    {
      "cell_type": "markdown",
      "metadata": {
        "id": "fw0Qur2lPDFG"
      },
      "source": [
        "### Visualization Code\n",
        "\n",
        "Do not touch any of the visualization code below."
      ]
    },
    {
      "cell_type": "code",
      "execution_count": null,
      "metadata": {
        "id": "pLtNWWcIvVYk"
      },
      "outputs": [],
      "source": [
        "## Helper code for visualisation (No Need to Touch)\n",
        "def visualize_polygons(p0, p1):\n",
        "    \"\"\"\n",
        "\n",
        "    \"\"\"\n",
        "    fig, ax = plt.subplots()\n",
        "    patches = []\n",
        "    polygon1 = Polygon(p0, closed=True)\n",
        "    polygon2 = Polygon(p1, closed=True)\n",
        "    patches.append(polygon1)\n",
        "    patches.append(polygon2)\n",
        "    p = PatchCollection(patches, cmap=matplotlib.cm.jet, alpha=0.4)\n",
        "    ax.add_collection(p)\n",
        "    ax.autoscale_view()\n",
        "    plt.show()\n",
        "\n",
        "def visualize_datapoints(X, Y):\n",
        "    \"\"\"\n",
        "\n",
        "    \"\"\"\n",
        "    assert(X.shape[0] == Y.shape[0])\n",
        "    fig, ax = plt.subplots()\n",
        "    npts = 60000\n",
        "    col = np.where(Y[:npts]==1,'m','b')\n",
        "    x1 = X[:npts][:,0]\n",
        "    x2 = X[:npts][:,1]\n",
        "    ax.scatter(x1, x2, s=0.5, c=col, zorder=1)\n",
        "    plt.show()"
      ]
    },
    {
      "cell_type": "code",
      "execution_count": null,
      "metadata": {
        "id": "3yDFI7mZ5SyV"
      },
      "outputs": [],
      "source": [
        "visualize_polygons(p0,p1)"
      ]
    },
    {
      "cell_type": "markdown",
      "metadata": {
        "id": "SsqPNsS4tcZz"
      },
      "source": [
        "### Problem 1a)\n",
        "\n",
        "Please fill in all code blocks marked with a #TODO."
      ]
    },
    {
      "cell_type": "code",
      "execution_count": null,
      "metadata": {
        "id": "MHQygwY0pcDl"
      },
      "outputs": [],
      "source": [
        "def threshold_activation1(x):\n",
        "    \"\"\"\n",
        "\n",
        "    \"\"\"\n",
        "    y = np.copy(x)\n",
        "    y[y <= 0] = 0\n",
        "    y[y > 0] = 1\n",
        "    return y\n",
        "\n",
        "\n",
        "def and_gate(x):\n",
        "    \"\"\"\n",
        "        x: np array of shape (n, 1)\n",
        "        return: 1 if all elements of x are 1, else 0\n",
        "    \"\"\"\n",
        "    for i in x:\n",
        "        if x <= 0:\n",
        "            return 0\n",
        "        \n",
        "    return 1\n",
        "\n",
        "\n",
        "def or_gate(x):\n",
        "    \"\"\"\n",
        "        x: tuple value from AND gates\n",
        "    \"\"\"\n",
        "    if x[0] <= 0 and x[1] <= 0:\n",
        "        return 0\n",
        "    else:\n",
        "        return 1\n",
        "\n",
        "\n",
        "def analytical_parameters(p0, p1):\n",
        "    \"\"\"\n",
        "\n",
        "    \"\"\"\n",
        "    ## Dimensionality\n",
        "    x_dim = 2\n",
        "    class_num = 2\n",
        "    hidden_unit_num = 10\n",
        "    # First Layer Parameter\n",
        "    W = np.zeros((hidden_unit_num, x_dim))\n",
        "    b = np.zeros((hidden_unit_num, 1))\n",
        "    for i in range(5):\n",
        "        # First polygon\n",
        "        x1 = p0[i, 0]\n",
        "        y1 = p0[i, 1]\n",
        "        x2 = p0[(i+1)%5, 0]\n",
        "        y2 = p0[(i+1)%5, 1]\n",
        "        W[i, :] = [y1 - y2, x2 - x1]\n",
        "        b[i, :] = x1 * y2 - x2 * y1\n",
        "        # Second polygon\n",
        "        x1 = p1[i, 0]\n",
        "        y1 = p1[i, 1]\n",
        "        x2 = p1[(i+1)%5, 0]\n",
        "        y2 = p1[(i+1)%5, 1]\n",
        "        W[i + 5, :] = [y1 - y2, x2 - x1]\n",
        "        b[i + 5, :] = x1 * y2 - x2 * y1\n",
        "    return W,b\n",
        "\n",
        "def predict_output_v1(X, W, b):\n",
        "    \"\"\"\n",
        "\n",
        "    \"\"\"\n",
        "    predictions = []\n",
        "    for idx in range(data.shape[0]):\n",
        "        x = np.reshape(X[idx, :], (2, 1))\n",
        "        # First layer\n",
        "        first_layer_output = np.matmul(W, x) + b\n",
        "        first_layer_output = threshold_activation1(first_layer_output)\n",
        "        # Second layer\n",
        "        first_polygon = first_layer_output[0:5, :]\n",
        "        second_polygon = first_layer_output[5:10, :]\n",
        "        first_gate_output = and_gate(first_polygon)\n",
        "        second_gate_output = and_gate(second_polygon)\n",
        "        # Output layer\n",
        "        input_to_final_gate = [first_gate_output, second_gate_output]\n",
        "        prediction = or_gate(input_to_final_gate)\n",
        "        predictions.append(prediction)\n",
        "    return predictions\n",
        "\n",
        "def predict_output_v2(X, W, b):\n",
        "    \"\"\"\n",
        "    #TODO: Update usage of the gates in this function\n",
        "    \"\"\"\n",
        "    ## Cache of Predictions\n",
        "    predictions = []\n",
        "    ## Cycle Through Data Points\n",
        "    for idx in range(data.shape[0]):\n",
        "        x = np.reshape(X[idx, :], (2, 1))\n",
        "        # First layer\n",
        "        first_layer_output = np.matmul(W, x) + b\n",
        "        first_layer_output = threshold_activation1(first_layer_output)\n",
        "        # Second layer\n",
        "        first_polygon = first_layer_output[0:5, :]\n",
        "        second_polygon = first_layer_output[5:10, :]\n",
        "        first_gate_output = and_gate(first_polygon)\n",
        "        second_gate_output = and_gate(second_polygon)\n",
        "        # Output layer\n",
        "        input_to_final_gate = [first_gate_output, second_gate_output]\n",
        "        prediction = or_gate(input_to_final_gate)\n",
        "        predictions.append(prediction)\n",
        "    return predictions\n",
        "\n",
        "def calc_accuracy(true_y, pred_y):\n",
        "    \"\"\"\n",
        "\n",
        "    \"\"\"\n",
        "    true_prediction_num = 0\n",
        "    for i, py in enumerate(pred_y):\n",
        "        if py == true_y[i]:\n",
        "            true_prediction_num += 1\n",
        "    accuracy = true_prediction_num / len(pred_y)\n",
        "    print(\"Accuracy: \", accuracy)\n",
        "    return accuracy"
      ]
    },
    {
      "cell_type": "markdown",
      "metadata": {
        "id": "gSnNFYhu0gDC"
      },
      "source": [
        "*Sanity check:* If you correctly implemented the 'and gate' and 'or gate', all points should be classified correctly when you make predictions using `predict_output_v1()`"
      ]
    },
    {
      "cell_type": "code",
      "execution_count": null,
      "metadata": {
        "id": "pknSuuIXrG7Y"
      },
      "outputs": [],
      "source": [
        "## Load Our Parameters\n",
        "W, b = analytical_parameters(p0, p1)\n",
        "\n",
        "## Make Predictions\n",
        "pred_Y = predict_output_v1(X, W, b)\n",
        "\n",
        "## Compute Accuracy\n",
        "acc = calc_accuracy(Y, pred_Y)\n",
        "assert (acc == 1)\n",
        "\n",
        "## Visualize Predictions\n",
        "visualize_datapoints(X, np.array(pred_Y))"
      ]
    },
    {
      "cell_type": "markdown",
      "metadata": {
        "id": "ME0TSvkX2KWg"
      },
      "source": [
        "In the code above, change the gates in `predict_output_v2()` such that only the points in the top polygon are classified correctly. Visualize your result, report the accuracy of this model, and attach it to the submission.\n",
        "\n",
        "To further clarify, you should **only** change the usage of the gating functions, not the code inside the gating function itself."
      ]
    },
    {
      "cell_type": "code",
      "execution_count": null,
      "metadata": {
        "id": "szTyPVIp1nXq"
      },
      "outputs": [],
      "source": [
        "## Load Our Parameters\n",
        "W, b = analytical_parameters(p0, p1)\n",
        "\n",
        "## Make Predictions\n",
        "pred_Y = predict_output_v2(X, W, b)\n",
        "\n",
        "## Visualize Predictions\n",
        "visualize_datapoints(X, np.array(pred_Y))"
      ]
    },
    {
      "cell_type": "markdown",
      "metadata": {
        "id": "216MojZrPDFJ"
      },
      "source": [
        "## Problem 1b-d)\n",
        "\n",
        "Complete problems 1b through 1d in the space below. Please use markdown to clearly distinguish your answers for each part. Include appropriate visualizations generated here in your final report."
      ]
    },
    {
      "cell_type": "code",
      "execution_count": null,
      "metadata": {
        "id": "QOMhe2lu7mC5"
      },
      "outputs": [],
      "source": []
    },
    {
      "cell_type": "markdown",
      "metadata": {
        "id": "7sxSgG9wPDFK"
      },
      "source": [
        "## Problem 2\n",
        "\n",
        "All code for Problem 2 should go below. We provide data loaders and relevant imports to get you started. If you are working locally (instead of using Google Colab), we recommend using Conda to install pytorch (https://pytorch.org).\n",
        "\n",
        "### Imports"
      ]
    },
    {
      "cell_type": "code",
      "execution_count": null,
      "metadata": {
        "id": "fcocBj9hPDFK"
      },
      "outputs": [],
      "source": [
        "## Additional External Libraries (Deep Learning)\n",
        "import torch\n",
        "import torch.nn as nn\n",
        "from torch.autograd import Variable\n",
        "from torch.utils.data import Dataset, DataLoader\n",
        "from torchvision import transforms as tfs\n",
        "from PIL import Image\n",
        "from torchvision.datasets import FashionMNIST\n",
        "from torch.utils.data import SubsetRandomSampler"
      ]
    },
    {
      "cell_type": "markdown",
      "metadata": {
        "id": "yKYtXumUPDFK"
      },
      "source": [
        "### Data Loading"
      ]
    },
    {
      "cell_type": "code",
      "execution_count": null,
      "metadata": {
        "id": "oGEgukvLPDFK"
      },
      "outputs": [],
      "source": [
        "# Hyperparameter (Feel Free to Change These, but Make Sure your Training Loop Still Works as Expected)\n",
        "TRAIN_BATCH_SIZE = 50\n",
        "VAL_BATCH_SIZE = 50\n",
        "TEST_BATCH_SIZE = 1\n",
        "\n",
        "# Transform data to PIL images\n",
        "transforms = tfs.Compose([tfs.ToTensor()])\n",
        "\n",
        "# Train/Val Subsets\n",
        "train_mask = range(50000)\n",
        "val_mask = range(50000, 60000)\n",
        "\n",
        "# Download/Load Dataset\n",
        "train_dataset = FashionMNIST('./data', train=True, transform=transforms, download=True)\n",
        "test_dataset = FashionMNIST('./data', train=False, transform=transforms, download=True)\n",
        "\n",
        "# Data Loaders\n",
        "train_dataloader = DataLoader(train_dataset, batch_size=TRAIN_BATCH_SIZE, sampler=SubsetRandomSampler(train_mask))\n",
        "val_dataloader = DataLoader(train_dataset, batch_size=VAL_BATCH_SIZE, sampler=SubsetRandomSampler(val_mask))\n",
        "test_dataloader = DataLoader(test_dataset, batch_size=TEST_BATCH_SIZE)"
      ]
    },
    {
      "cell_type": "markdown",
      "metadata": {
        "id": "QqfCSiCdPDFK"
      },
      "source": [
        "## Problem 2a)\n",
        "\n",
        "### Design Model"
      ]
    },
    {
      "cell_type": "code",
      "execution_count": null,
      "metadata": {
        "id": "PWczeepjPDFK"
      },
      "outputs": [],
      "source": [
        "class CNNet(nn.Module):\n",
        "\n",
        "    \"\"\"\n",
        "\n",
        "    \"\"\"\n",
        "\n",
        "    def __init__(self):\n",
        "        \"\"\"\n",
        "\n",
        "        \"\"\"\n",
        "        ## Inherent Torch Module\n",
        "        super(CNNet, self).__init__()\n",
        "        ##TODO: Initialize Model Layers\n",
        "\n",
        "    def forward(self, x):\n",
        "        \"\"\"\n",
        "\n",
        "        \"\"\"\n",
        "        ##TODO: Setup Forward Pass\n",
        "        return NotImplementedError"
      ]
    },
    {
      "cell_type": "markdown",
      "metadata": {
        "id": "YvczCx2ZPDFK"
      },
      "source": [
        "### Model Training"
      ]
    },
    {
      "cell_type": "code",
      "execution_count": null,
      "metadata": {
        "id": "KgepUwPrPDFK"
      },
      "outputs": [],
      "source": [
        "def train(model,\n",
        "          optimizer,\n",
        "          loss,\n",
        "          lr,\n",
        "          epochs=50,\n",
        "          train_dataloader=train_dataloader,\n",
        "          val_dataloader=val_dataloader,\n",
        "          test_dataloader=test_dataloader,\n",
        "          **kwargs):\n",
        "    \"\"\"\n",
        "    #TODO: Implement a training loop\n",
        "    # Your function can return the model, train loss, and validation accuracy\n",
        "    \"\"\"\n",
        "    # TODO:\n",
        "    raise NotImplementedError"
      ]
    },
    {
      "cell_type": "code",
      "execution_count": null,
      "metadata": {
        "id": "KmV08pS6PDFK"
      },
      "outputs": [],
      "source": [
        "## Hyperparameters\n",
        "EPOCH = 50\n",
        "LR = ##TODO: Choose a Learning Rate\n",
        "\n",
        "## Setting up the model, optimizer, and loss function\n",
        "model = CNNet()\n",
        "optimizer = ##TODO: Choose an optimized\n",
        "loss_f = ##TODO: Choose a loss"
      ]
    },
    {
      "cell_type": "code",
      "execution_count": null,
      "metadata": {
        "id": "cnmWFEt3PDFK"
      },
      "outputs": [],
      "source": [
        "## Run Training Loop\n",
        "out = train(model, optimizer, loss_f, LR)"
      ]
    },
    {
      "cell_type": "markdown",
      "metadata": {
        "id": "gPN1uK8KPDFL"
      },
      "source": [
        "## Problem 2b)\n",
        "\n",
        "Now try to improve your model using additional techniques learned during class. You should be able to use the same training function as above, but will need to create a new model architecture.\n",
        "\n",
        "### Data Loading\n",
        "\n",
        "You should maintain the splits from above, but feel free to alter the dataloaders (i.e. transforms) as you wish."
      ]
    },
    {
      "cell_type": "code",
      "execution_count": null,
      "metadata": {
        "id": "Ar110CBLPDFL"
      },
      "outputs": [],
      "source": [
        "# Hyperparameter (Feel Free to Change These, but Make Sure your Training Loop Still Works as Expected)\n",
        "TRAIN_BATCH_SIZE = 50\n",
        "VAL_BATCH_SIZE = 50\n",
        "TEST_BATCH_SIZE = 1\n",
        "\n",
        "# Transform data to PIL images\n",
        "transforms = ##TODO: Use the same from above or consider alternatives\n",
        "\n",
        "# Train/Val Subsets\n",
        "train_mask = range(50000)\n",
        "val_mask = range(50000, 60000)\n",
        "\n",
        "# Download/Load Dataset\n",
        "train_dataset = FashionMNIST('./data', train=True, transform=transforms, download=True)\n",
        "test_dataset = FashionMNIST('./data', train=False, transform=transforms, download=True)\n",
        "\n",
        "# Data Loaders\n",
        "train_dataloader = DataLoader(train_dataset, batch_size=TRAIN_BATCH_SIZE, sampler=SubsetRandomSampler(train_mask))\n",
        "val_dataloader = DataLoader(train_dataset, batch_size=VAL_BATCH_SIZE, sampler=SubsetRandomSampler(val_mask))\n",
        "test_dataloader = DataLoader(test_dataset, batch_size=TEST_BATCH_SIZE)"
      ]
    },
    {
      "cell_type": "markdown",
      "metadata": {
        "id": "v8F7EIxXPDFL"
      },
      "source": [
        "### Model Design"
      ]
    },
    {
      "cell_type": "code",
      "execution_count": null,
      "metadata": {
        "id": "VYa6pKlmPDFL"
      },
      "outputs": [],
      "source": [
        "##TODO: Try to improve upon your previous architecture"
      ]
    },
    {
      "cell_type": "markdown",
      "metadata": {
        "id": "Z-vJ08i8PDFL"
      },
      "source": [
        "### Model Training"
      ]
    },
    {
      "cell_type": "code",
      "execution_count": null,
      "metadata": {
        "id": "HSzH1mTLPDFL"
      },
      "outputs": [],
      "source": [
        "##TODO: Fit and evaluate your model. What do you observe?"
      ]
    },
    {
      "cell_type": "markdown",
      "metadata": {
        "id": "gaGzm3x7PDFL"
      },
      "source": [
        "## Problem 2c)\n",
        "\n",
        "Write down your response in the final report."
      ]
    }
  ],
  "metadata": {
    "colab": {
      "provenance": []
    },
    "kernelspec": {
      "display_name": "AR-RA",
      "language": "python",
      "name": "python3"
    },
    "language_info": {
      "codemirror_mode": {
        "name": "ipython",
        "version": 3
      },
      "file_extension": ".py",
      "mimetype": "text/x-python",
      "name": "python",
      "nbconvert_exporter": "python",
      "pygments_lexer": "ipython3",
      "version": "3.11.0"
    }
  },
  "nbformat": 4,
  "nbformat_minor": 0
}
