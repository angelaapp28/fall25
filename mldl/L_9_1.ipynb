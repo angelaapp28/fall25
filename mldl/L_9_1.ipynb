{
 "cells": [
  {
   "cell_type": "markdown",
   "metadata": {
    "colab_type": "text",
    "id": "t0-VXSCM7avd"
   },
   "source": [
    "# L-9-1: Inverse Classroom: It’s not working! Help!\n",
    "\n",
    "These exercises will give you some debugging experience on problems typically found when doing machine learning in practice.\n",
    "\n",
    "**Outline**\n",
    "\n",
    "0. General Set-up\n",
    "1. Debugging A Bad Training Set-up\n",
    "2. Image Segmentation with DICE Loss\n",
    "3. Fixing the Data-Processing Pipeline\n",
    "4. Test Performance is Too Good!"
   ]
  },
  {
   "cell_type": "markdown",
   "metadata": {
    "colab_type": "text",
    "id": "3secgg798917"
   },
   "source": [
    "## 0. General Set-up\n",
    "\n",
    "Here we provide general code set-up: package requirements, train-loaders, etc."
   ]
  },
  {
   "cell_type": "code",
   "execution_count": 1,
   "metadata": {
    "colab": {},
    "colab_type": "code",
    "id": "8ocl9Mfl8LH6"
   },
   "outputs": [],
   "source": [
    "## Some general imports we may need:\n",
    "import numpy as np\n",
    "import torch\n",
    "import torch.nn as nn\n",
    "import torchvision\n",
    "import torchvision.datasets as dataset\n",
    "import torchvision.transforms as transforms\n",
    "import matplotlib.pyplot as plt\n",
    "import time"
   ]
  },
  {
   "cell_type": "markdown",
   "metadata": {
    "colab_type": "text",
    "id": "uG5SflgE9eVz"
   },
   "source": [
    "Make sure GPU is enabled: In Colab, at the top, \n",
    "\n",
    "click `Runtime` -> `Change runtime type` -> `Hardware Accelerator` -> `GPU`"
   ]
  },
  {
   "cell_type": "code",
   "execution_count": 2,
   "metadata": {
    "colab": {},
    "colab_type": "code",
    "id": "rFFtp9BmLxo9"
   },
   "outputs": [],
   "source": [
    "gpu_boole = torch.cuda.is_available()"
   ]
  },
  {
   "cell_type": "code",
   "execution_count": 3,
   "metadata": {
    "colab": {},
    "colab_type": "code",
    "id": "IAb83ZuC52lC"
   },
   "outputs": [
    {
     "name": "stderr",
     "output_type": "stream",
     "text": [
      "100%|██████████| 9.91M/9.91M [00:00<00:00, 34.8MB/s]\n",
      "100%|██████████| 28.9k/28.9k [00:00<00:00, 3.28MB/s]\n",
      "100%|██████████| 1.65M/1.65M [00:00<00:00, 14.2MB/s]\n",
      "100%|██████████| 4.54k/4.54k [00:00<00:00, 5.96MB/s]\n"
     ]
    }
   ],
   "source": [
    "## Basic dataloading for MNIST.\n",
    "# Just to make sure it works for the rest of this notebook.\n",
    "training = dataset.MNIST(root ='./data', transform=transforms.ToTensor(), train=True, download=True)\n",
    "testing =  dataset.MNIST(root ='./data', transform = transforms.ToTensor(), train=False, download=True)\n",
    "train_loader = torch.utils.data.DataLoader(dataset=training, batch_size = 128, shuffle=True)\n",
    "test_loader = torch.utils.data.DataLoader(dataset=testing, batch_size = 128, shuffle=False)"
   ]
  },
  {
   "cell_type": "code",
   "execution_count": 4,
   "metadata": {
    "colab": {},
    "colab_type": "code",
    "id": "iNegXCYN52aB"
   },
   "outputs": [
    {
     "data": {
      "image/png": "[encoded data removed]",
      "text/plain": [
       "<Figure size 640x480 with 1 Axes>"
      ]
     },
     "metadata": {},
     "output_type": "display_data"
    },
    {
     "name": "stdout",
     "output_type": "stream",
     "text": [
      "Label tensor(5)\n"
     ]
    }
   ],
   "source": [
    "## Plotting data to make sure it is correct:\n",
    "x,y = next(iter(train_loader))\n",
    "plt.imshow(x[0][0].cpu().data.numpy()) #plotting first channel of first image of MNIST\n",
    "plt.show()\n",
    "print('Label', y[0])"
   ]
  },
  {
   "cell_type": "markdown",
   "metadata": {
    "colab_type": "text",
    "id": "h8UeQcnW51sS"
   },
   "source": [
    "If you see an image of one of training samples above, then everything is working correctly for the next section.\n",
    "\n",
    "**Some quick info about this dataset before starting:**\n",
    "* We will be using the MNIST dataset, a handwritten digit dataset consisting of 10 classes, digits 0 through 9. MNIST consists of 60k training samples and 10k test samples. The images are of shape 28 x 28 (only one channel, grayscale).\n",
    "* Typically MNIST is used as a baseline classification task for prototyping research ideas. In contemporary research, it is usually considered too easy for bonafide ideas to be validated on by itself, instead harder baselines are additionally provided. \n",
    "* For our purposes though, this dataset works well for this classroom setting and will provide us with some basic debugging experience."
   ]
  },
  {
   "cell_type": "markdown",
   "metadata": {
    "colab_type": "text",
    "id": "Xf98O6-QAWpr"
   },
   "source": [
    "## 1. Debugging A Bad Training Set-Up"
   ]
  },
  {
   "cell_type": "markdown",
   "metadata": {
    "colab_type": "text",
    "id": "1JogukGYAhdv"
   },
   "source": [
    "* For this section, you are given a training loop for MNIST. \n",
    "* The loss curve doesn't look correct though, what is the issue?\n",
    "* **Deliverables:** \n",
    "  * You will have to debug codeblocks below to achieve a good loss curve.\n",
    "  * Explain what the problem or problems you found, what you ended up addressing, changing, or adding\n",
    "  * Output a final test accuracy score of 90% or above in 2 epochs of training or less."
   ]
  },
  {
   "cell_type": "markdown",
   "metadata": {
    "colab_type": "text",
    "id": "XefTpBSaHwvj"
   },
   "source": [
    "**Defining the model:**\n",
    "Here we define a simple multi-layer perceptron (MLP) model, with two hidden layers and relu activations.\n",
    "\n",
    "**NOTE: Although you are free to play around with the Net model definition, it's not needed to \"solve\" this notebook.**"
   ]
  },
  {
   "cell_type": "code",
   "execution_count": 5,
   "metadata": {
    "colab": {},
    "colab_type": "code",
    "id": "cSMBOq6OAUek"
   },
   "outputs": [],
   "source": [
    "class Net(nn.Module):\n",
    "  def __init__(self, input_size, width, num_classes):\n",
    "    super(Net, self).__init__()\n",
    "\n",
    "    ##feedfoward layers:\n",
    "    self.ff1 = nn.Linear(input_size, width) #input\n",
    "\n",
    "    self.ff2 = nn.Linear(width, width) #hidden layers\n",
    "    self.ff3 = nn.Linear(width, width)\n",
    "\n",
    "    self.ff_out = nn.Linear(width, num_classes) #logit layer     \n",
    "\n",
    "    ##activations:\n",
    "    self.relu = nn.ReLU()\n",
    "\n",
    "    #other activations:\n",
    "    self.tanh = nn.Tanh()\n",
    "    self.sigmoid = nn.Sigmoid()\n",
    "\n",
    "    ## Some normalization functions.\n",
    "    ## Feel free to add them into the forward pass if you like.\n",
    "    \n",
    "    #dropout:\n",
    "    self.do = nn.Dropout()\n",
    "\n",
    "    #batch-normalization:\n",
    "    self.bn1 = nn.BatchNorm1d(width)\n",
    "    self.bn2 = nn.BatchNorm1d(width)\n",
    "    self.bn3 = nn.BatchNorm1d(width)\n",
    "\n",
    "                \n",
    "  def forward(self, input_data):\n",
    "    out = self.relu(self.ff1(input_data)) \n",
    "    out = self.relu(self.ff2(out)) \n",
    "    out = self.relu(self.ff3(out))\n",
    "    out = self.ff_out(out)\n",
    "    return out #returns class probabilities for each image\n"
   ]
  },
  {
   "cell_type": "markdown",
   "metadata": {
    "colab_type": "text",
    "id": "iVIM33iCI0-2"
   },
   "source": [
    "**Instantiating the model:** we instantiate the model with a width of 500 and 10 classes."
   ]
  },
  {
   "cell_type": "code",
   "execution_count": 6,
   "metadata": {
    "colab": {},
    "colab_type": "code",
    "id": "PcXASArYIsvj"
   },
   "outputs": [],
   "source": [
    "net = Net(input_size = 784, width = 500, num_classes = 10)\n",
    "if gpu_boole:\n",
    "  net = net.cuda()"
   ]
  },
  {
   "cell_type": "markdown",
   "metadata": {
    "colab_type": "text",
    "id": "Sda-76CdJnlX"
   },
   "source": [
    "**Defining the optimizer:** we set the optimization procedure as stochastic gradient descent with various parameters. We also define our loss function."
   ]
  },
  {
   "cell_type": "code",
   "execution_count": 7,
   "metadata": {
    "colab": {},
    "colab_type": "code",
    "id": "JNOhErrSJj3B"
   },
   "outputs": [],
   "source": [
    "optimizer = torch.optim.SGD(net.parameters(), lr = 0.9, momentum = 0.9, weight_decay = 0.0000001, dampening = 0.000002, nesterov = False)\n",
    "loss_metric = nn.CrossEntropyLoss()"
   ]
  },
  {
   "cell_type": "markdown",
   "metadata": {
    "colab_type": "text",
    "id": "G5u9uAJZKVNB"
   },
   "source": [
    "**Defining dataset loaders:** here, we define the dataset loaders with a specific batch size of 128 and basic tensor transformation / preprocessing:\n",
    "\n"
   ]
  },
  {
   "cell_type": "code",
   "execution_count": 8,
   "metadata": {
    "colab": {},
    "colab_type": "code",
    "id": "cHSq5YEyK452"
   },
   "outputs": [],
   "source": [
    "training = dataset.MNIST(root ='./data', transform=transforms.ToTensor(), train=True, download=True)\n",
    "testing =  dataset.MNIST(root ='./data', transform = transforms.ToTensor(), train=False, download=True)\n",
    "train_loader = torch.utils.data.DataLoader(dataset=training, batch_size = 128, shuffle=True)\n",
    "test_loader = torch.utils.data.DataLoader(dataset=testing, batch_size = 128, shuffle=False)"
   ]
  },
  {
   "cell_type": "markdown",
   "metadata": {
    "colab_type": "text",
    "id": "uAd34-RlM_a4"
   },
   "source": [
    "**Defining training and test loss and accuracy functions:** These functions will be useful in our training loop to view are training and test loss/accuracy at each epoch."
   ]
  },
  {
   "cell_type": "code",
   "execution_count": 9,
   "metadata": {
    "colab": {},
    "colab_type": "code",
    "id": "1X7K9TaPNMDe"
   },
   "outputs": [],
   "source": [
    "def train_eval(verbose = 1):\n",
    "    correct = 0\n",
    "    total = 0\n",
    "    loss_sum = 0\n",
    "    for images, labels in train_loader:\n",
    "        if gpu_boole:\n",
    "            images, labels = images.cuda(), labels.cuda()\n",
    "        images = images.view(-1, 28*28)\n",
    "        outputs = net(images)\n",
    "        _, predicted = torch.max(outputs.data, 1)\n",
    "        total += labels.size(0)\n",
    "        correct += (predicted.float() == labels.float()).sum()\n",
    "\n",
    "        loss_sum += loss_metric(outputs,labels)\n",
    "        \n",
    "    if verbose:\n",
    "        print('Train accuracy: %f %%' % (100 * correct / total))\n",
    "        print('Train loss: %f' % (loss_sum.cpu().data.numpy().item() / total))\n",
    "\n",
    "    return 100.0 * correct / total, loss_sum.cpu().data.numpy().item() / total\n",
    "    \n",
    "def test_eval(verbose = 1):\n",
    "    correct = 0\n",
    "    total = 0\n",
    "    loss_sum = 0\n",
    "    for images, labels in test_loader:\n",
    "        if gpu_boole:\n",
    "            images, labels = images.cuda(), labels.cuda()\n",
    "        images = images.view(-1, 28*28)\n",
    "        outputs = net(images)\n",
    "        _, predicted = torch.max(outputs.data, 1)\n",
    "        total += labels.size(0)\n",
    "        correct += (predicted.float() == labels.float()).sum()\n",
    "\n",
    "        loss_sum += loss_metric(outputs,labels)\n",
    "\n",
    "    if verbose:\n",
    "        print('Test accuracy: %f %%' % (100 * correct / total))\n",
    "        print('Test loss: %f' % (loss_sum.cpu().data.numpy().item() / total))\n",
    "\n",
    "    return 100.0 * correct / total, loss_sum.cpu().data.numpy().item() / total\n"
   ]
  },
  {
   "cell_type": "markdown",
   "metadata": {
    "colab_type": "text",
    "id": "99oTqwXDK_a3"
   },
   "source": [
    "**Traning loop:** here, we give the training loop. A number of epochs is set. Loss is recorded and plotted at the end.\n",
    "\n",
    "**IMPORTANT NOTE:** For re-running this code cell, if you encounter nan loss, you will need to reinstantiate your model and optimizer by re-running the \"Instantiating the model:\" and \"Defining the optimizer:\" code cells above."
   ]
  },
  {
   "cell_type": "code",
   "execution_count": 10,
   "metadata": {
    "colab": {},
    "colab_type": "code",
    "id": "fwDUdRlOLUwG"
   },
   "outputs": [
    {
     "name": "stdout",
     "output_type": "stream",
     "text": [
      "Starting Training\n",
      "Epoch 1 :\n",
      "Train accuracy: 11.236667 %\n",
      "Train loss: 0.018056\n",
      "Test accuracy: 11.350000 %\n",
      "Test loss: 0.018257\n",
      "Elapsed time for epoch: 43.26759696006775 s\n",
      "ETA of completion: 0.7211266160011292 minutes\n",
      "\n",
      "Epoch 2 :\n",
      "Train accuracy: 9.736667 %\n",
      "Train loss: 0.018089\n",
      "Test accuracy: 9.820000 %\n",
      "Test loss: 0.018287\n",
      "Elapsed time for epoch: 42.27096152305603 s\n",
      "ETA of completion: 0.0 minutes\n",
      "\n"
     ]
    },
    {
     "data": {
      "image/png": "[encoded data removed]",
      "text/plain": [
       "<Figure size 640x480 with 1 Axes>"
      ]
     },
     "metadata": {},
     "output_type": "display_data"
    }
   ],
   "source": [
    "#re-initializing network weights:\n",
    "def weights_init(m):\n",
    "    if isinstance(m, nn.Conv2d) or isinstance(m, nn.Linear):\n",
    "        torch.nn.init.xavier_uniform(m.weight.data)\n",
    "\n",
    "weights_init(net)\n",
    "\n",
    "#number of epochs to train for:\n",
    "epochs = 2\n",
    "\n",
    "#defining batch train loss recording arrays for later visualization/plotting:\n",
    "loss_batch_store = []\n",
    "\n",
    "print(\"Starting Training\")\n",
    "#training loop:\n",
    "for epoch in range(epochs):\n",
    "  time1 = time.time() #timekeeping\n",
    "\n",
    "  for i, (x,y) in enumerate(train_loader):\n",
    "\n",
    "    #reshaping to flat shape:\n",
    "    x = x.view(-1,28*28)\n",
    "\n",
    "    if gpu_boole:\n",
    "      x = x.cuda()\n",
    "      y = y.cuda()\n",
    "\n",
    "    #loss calculation and gradient update:\n",
    "\n",
    "    if i > 0 or epoch > 0:\n",
    "      optimizer.zero_grad()\n",
    "    outputs = net.forward(x)\n",
    "    loss = loss_metric(outputs,y)\n",
    "    loss.backward()\n",
    "\n",
    "    if i > 0 or epoch > 0:\n",
    "      loss_batch_store.append(loss.cpu().data.numpy().item())\n",
    "                  \n",
    "    ##performing update:\n",
    "    optimizer.step()\n",
    "\n",
    "  print(\"Epoch\",epoch+1,':')\n",
    "  train_perc, train_loss = train_eval()\n",
    "  test_perc, test_loss = test_eval()\n",
    "\n",
    "  time2 = time.time() #timekeeping\n",
    "  print('Elapsed time for epoch:',time2 - time1,'s')\n",
    "  print('ETA of completion:',(time2 - time1)*(epochs - epoch - 1)/60,'minutes')\n",
    "  print()\n",
    "\n",
    "## Plotting batch-wise train loss curve:\n",
    "plt.plot(loss_batch_store, '-o', label = 'train_loss', color = 'blue')\n",
    "plt.xlabel('Minibatch Number')\n",
    "plt.ylabel('Sample-wise Loss At Last minibatch')\n",
    "plt.legend()\n",
    "plt.show()\n"
   ]
  },
  {
   "cell_type": "markdown",
   "metadata": {
    "colab_type": "text",
    "id": "A4SlBnqAUs3r"
   },
   "source": [
    "**What went wrong?**\n",
    "\n",
    "* The loss curve doesn't look right (no clear, gradual decrease in train loss over time), and your train and test accuracy are terrible and stuck at around random chance. Worse yet, your loss is returning nan (\"not a number\")!\n",
    "\n",
    "* Go through the codeblocks above to try and debug the problem. Is optimization procedure correcly specified? Are hyperparameters reasonable? Should batch-size be increased or decreased? Should initialization be done differently?\n",
    "\n",
    "* Your job will be to make adjustments, figure out any problems that may be occurring, and make the output give a test accuracy of 90% or above (for 2 epochs of training or less)."
   ]
  },
  {
   "cell_type": "markdown",
   "metadata": {
    "colab_type": "text",
    "id": "aYqrbUbNVgQU"
   },
   "source": [
    "**Explain your changes, additions, and adjustments below. Describe what led to a better training procedure and why:**\n",
    "\n",
    "[Your text here]"
   ]
  },
  {
   "cell_type": "code",
   "execution_count": 0,
   "metadata": {
    "colab": {},
    "colab_type": "code",
    "id": "Hm9cN-LlP6V2"
   },
   "outputs": [],
   "source": []
  }
 ],
 "metadata": {
  "accelerator": "GPU",
  "colab": {
   "collapsed_sections": [],
   "name": "L_9_1.ipynb",
   "provenance": []
  },
  "kernelspec": {
   "display_name": "Python 3",
   "name": "python3"
  },
  "language_info": {
   "codemirror_mode": {
    "name": "ipython",
    "version": 3
   },
   "file_extension": ".py",
   "mimetype": "text/x-python",
   "name": "python",
   "nbconvert_exporter": "python",
   "pygments_lexer": "ipython3",
   "version": "3.13.7"
  }
 },
 "nbformat": 4,
 "nbformat_minor": 0
}
